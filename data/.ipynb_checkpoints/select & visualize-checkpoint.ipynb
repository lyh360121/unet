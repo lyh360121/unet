{
 "cells": [
  {
   "cell_type": "code",
   "execution_count": 1,
   "id": "b00d9e54",
   "metadata": {},
   "outputs": [],
   "source": [
    "from pathlib import Path\n",
    "from tqdm import tqdm\n",
    "import matplotlib.pyplot as plt\n",
    "import numpy as np\n",
    "import cv2\n",
    "import os"
   ]
  },
  {
   "cell_type": "code",
   "execution_count": 2,
   "id": "a9e43069",
   "metadata": {},
   "outputs": [],
   "source": [
    "images_dir = Path('./imgs')\n",
    "mask_dir = Path('./masks')\n",
    "# mask_dir_new = Path('./masks_visualized_5')\n",
    "mask_dir_new = Path('./masks_selected')\n",
    "images_dir_new = Path('./images_selected')"
   ]
  },
  {
   "cell_type": "code",
   "execution_count": 3,
   "id": "99946032",
   "metadata": {},
   "outputs": [
    {
     "name": "stderr",
     "output_type": "stream",
     "text": [
      "100%|██████████████████████████████████████████████████████████████████████████| 52615/52615 [1:10:51<00:00, 12.38it/s]\n"
     ]
    }
   ],
   "source": [
    "colorMap = {\n",
    "    0: [255, 255, 255],\n",
    "    1: [255, 0, 0],\n",
    "    2: [0, 255, 0],\n",
    "    3: [0, 0, 0],\n",
    "    4: [0, 0, 255],\n",
    "    5: [0, 128, 128],\n",
    "    6: [255, 0, 255],\n",
    "    7: [255, 255, 0],\n",
    "    8: [192, 192, 192]\n",
    "}\n",
    "def selected(label):\n",
    "    if label == 3 or label == 0:\n",
    "        return label\n",
    "    return 2\n",
    "selected_files = []\n",
    "for file in tqdm(os.listdir(mask_dir)):\n",
    "    try:\n",
    "        path = str(mask_dir.joinpath(file))\n",
    "        path_new = str(mask_dir_new.joinpath(file))\n",
    "        img = cv2.imread(path, 0)\n",
    "        if 3 not in np.unique(img):\n",
    "            continue\n",
    "        selected_files.append(file)\n",
    "#         img = np.array([[colorMap[i] for i in j] for j in img])\n",
    "        img = np.array([[selected(i) for i in j] for j in img])\n",
    "        cv2.imwrite(path_new, img)\n",
    "    except Exception as e:\n",
    "        print(e)\n",
    "        break\n",
    "        \n",
    "# for img in tqdm(os.listdir(images_dir)):\n",
    "#     try:\n",
    "#         if img.replace('basemap', 'class') not in selected_files:\n",
    "#             continue\n",
    "#         path = str(images_dir.joinpath(img))\n",
    "#         path_new = str(images_dir_new.joinpath(img))\n",
    "#         img = cv2.imread(path)\n",
    "#         cv2.imwrite(path_new, img)\n",
    "#     except Exception as e:\n",
    "#         print(e)\n",
    "#         break"
   ]
  },
  {
   "cell_type": "code",
   "execution_count": null,
   "id": "4f6fd6c7",
   "metadata": {},
   "outputs": [],
   "source": []
  }
 ],
 "metadata": {
  "kernelspec": {
   "display_name": "Python 3 (ipykernel)",
   "language": "python",
   "name": "python3"
  },
  "language_info": {
   "codemirror_mode": {
    "name": "ipython",
    "version": 3
   },
   "file_extension": ".py",
   "mimetype": "text/x-python",
   "name": "python",
   "nbconvert_exporter": "python",
   "pygments_lexer": "ipython3",
   "version": "3.10.11"
  }
 },
 "nbformat": 4,
 "nbformat_minor": 5
}
